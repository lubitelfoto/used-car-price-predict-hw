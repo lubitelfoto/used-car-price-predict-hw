{
 "cells": [
  {
   "cell_type": "markdown",
   "metadata": {
    "id": "IsPer4g5FgRB"
   },
   "source": [
    "# Домашнее задание №1\n",
    "\n",
    "В этом домашнем задании вам предлагается обучить модель регрессии для предсказания стоимости автомобилей, а также реализовать веб-сервис для применения построенной модели на новых данных.\n",
    "\n",
    "> Оценка за домашку = min(ваш балл, 10)\n"
   ]
  },
  {
   "cell_type": "markdown",
   "metadata": {
    "id": "RBxaROjhnExd"
   },
   "source": [
    "Задания, <font color='#9933CC'>выделенные фиолетовым</font>, требуют от вас написания кода.\n",
    "\n",
    "А вопросы, <font color='#FF6600'>выделенные оранжевым</font>, текстового ответа.\n",
    "\n",
    "Оцениваются как код, так и ответы на вопросы. Если нет одного и/или другого, то часть баллов за соответствующее задание без колебаний снимается."
   ]
  },
  {
   "cell_type": "code",
   "execution_count": 140,
   "metadata": {
    "id": "bKXD33FOsnGd"
   },
   "outputs": [],
   "source": [
    "import pandas as pd\n",
    "import numpy as np\n",
    "import matplotlib.pyplot as plt\n",
    "import random\n",
    "import seaborn as sns\n",
    "import re\n",
    "\n",
    "random.seed(42)\n",
    "np.random.seed(42)"
   ]
  },
  {
   "cell_type": "markdown",
   "metadata": {
    "id": "GAzbEw1ctU4f"
   },
   "source": [
    "Ниже ответьте на вопрос <font color='#FF6600'>\n",
    "\"Для чего фиксируем сиды в домашках?\"</font>"
   ]
  },
  {
   "cell_type": "code",
   "execution_count": 141,
   "metadata": {
    "colab": {
     "base_uri": "https://localhost:8080/"
    },
    "id": "lHsDF04utgDC",
    "outputId": "8b63192b-babe-492b-c634-6e7b0bc9b901"
   },
   "outputs": [
    {
     "name": "stdout",
     "output_type": "stream",
     "text": [
      "Для возможности в получать раз за разом одинаковые результаты. Фиксируется начальное состояние генератора случайных чисел\n"
     ]
    }
   ],
   "source": [
    "print(\"Для возможности в получать раз за разом одинаковые результаты. Фиксируется начальное состояние генератора случайных чисел\")"
   ]
  },
  {
   "cell_type": "markdown",
   "metadata": {
    "id": "ykzSVgN7q-xZ"
   },
   "source": [
    "# Часть 1 (2.5 балла + 0.75) | EDA"
   ]
  },
  {
   "cell_type": "markdown",
   "metadata": {
    "id": "e-4bM9CKAtCj"
   },
   "source": [
    "## Простейший EDA и обработка признаков (1.5 балла + 0.25)"
   ]
  },
  {
   "cell_type": "code",
   "execution_count": 142,
   "metadata": {},
   "outputs": [],
   "source": [
    "import ssl\n",
    "\n",
    "ssl._create_default_https_context = ssl._create_unverified_context"
   ]
  },
  {
   "cell_type": "code",
   "execution_count": 143,
   "metadata": {
    "id": "FniH6eCGFSi_"
   },
   "outputs": [
    {
     "name": "stdout",
     "output_type": "stream",
     "text": [
      "Train data shape: (6999, 13)\n",
      "Test data shape:  (1000, 13)\n"
     ]
    }
   ],
   "source": [
    "#df_train = pd.read_csv('https://raw.githubusercontent.com/hse-mlds/ml/main/hometasks/HT1/cars_train.csv')\n",
    "#df_test = pd.read_csv('https://raw.githubusercontent.com/hse-mlds/ml/main/hometasks/HT1/cars_test.csv')\n",
    "df_train = pd.read_csv('cars_train.csv')\n",
    "df_test = pd.read_csv('cars_test.csv')\n",
    "print(\"Train data shape:\", df_train.shape)\n",
    "print(\"Test data shape: \", df_test.shape)"
   ]
  },
  {
   "cell_type": "markdown",
   "metadata": {
    "id": "spIXQ6zwxT9I"
   },
   "source": [
    "(0.15 балла) <font color='#9933CC'>Отобразите 10 **случайных** строк тренировочного датасета</font>"
   ]
  },
  {
   "cell_type": "code",
   "execution_count": 144,
   "metadata": {
    "id": "Zesb2SG5xf_q"
   },
   "outputs": [
    {
     "data": {
      "text/html": [
       "<div>\n",
       "<style scoped>\n",
       "    .dataframe tbody tr th:only-of-type {\n",
       "        vertical-align: middle;\n",
       "    }\n",
       "\n",
       "    .dataframe tbody tr th {\n",
       "        vertical-align: top;\n",
       "    }\n",
       "\n",
       "    .dataframe thead th {\n",
       "        text-align: right;\n",
       "    }\n",
       "</style>\n",
       "<table border=\"1\" class=\"dataframe\">\n",
       "  <thead>\n",
       "    <tr style=\"text-align: right;\">\n",
       "      <th></th>\n",
       "      <th>name</th>\n",
       "      <th>year</th>\n",
       "      <th>selling_price</th>\n",
       "      <th>km_driven</th>\n",
       "      <th>fuel</th>\n",
       "      <th>seller_type</th>\n",
       "      <th>transmission</th>\n",
       "      <th>owner</th>\n",
       "      <th>mileage</th>\n",
       "      <th>engine</th>\n",
       "      <th>max_power</th>\n",
       "      <th>torque</th>\n",
       "      <th>seats</th>\n",
       "    </tr>\n",
       "  </thead>\n",
       "  <tbody>\n",
       "    <tr>\n",
       "      <th>6565</th>\n",
       "      <td>Renault KWID Climber 1.0 MT BSIV</td>\n",
       "      <td>2019</td>\n",
       "      <td>300000</td>\n",
       "      <td>35000</td>\n",
       "      <td>Petrol</td>\n",
       "      <td>Individual</td>\n",
       "      <td>Manual</td>\n",
       "      <td>First Owner</td>\n",
       "      <td>23.01 kmpl</td>\n",
       "      <td>999 CC</td>\n",
       "      <td>67 bhp</td>\n",
       "      <td>91Nm@ 4250rpm</td>\n",
       "      <td>5.0</td>\n",
       "    </tr>\n",
       "    <tr>\n",
       "      <th>2943</th>\n",
       "      <td>Maruti Wagon R LXI</td>\n",
       "      <td>2013</td>\n",
       "      <td>225000</td>\n",
       "      <td>58343</td>\n",
       "      <td>Petrol</td>\n",
       "      <td>Trustmark Dealer</td>\n",
       "      <td>Manual</td>\n",
       "      <td>First Owner</td>\n",
       "      <td>21.79 kmpl</td>\n",
       "      <td>998 CC</td>\n",
       "      <td>67.05 bhp</td>\n",
       "      <td>90Nm@ 3500rpm</td>\n",
       "      <td>5.0</td>\n",
       "    </tr>\n",
       "    <tr>\n",
       "      <th>2024</th>\n",
       "      <td>Hyundai i20 Asta 1.2</td>\n",
       "      <td>2013</td>\n",
       "      <td>360000</td>\n",
       "      <td>30000</td>\n",
       "      <td>Petrol</td>\n",
       "      <td>Individual</td>\n",
       "      <td>Manual</td>\n",
       "      <td>First Owner</td>\n",
       "      <td>18.5 kmpl</td>\n",
       "      <td>1197 CC</td>\n",
       "      <td>82.85 bhp</td>\n",
       "      <td>113.7Nm@ 4000rpm</td>\n",
       "      <td>5.0</td>\n",
       "    </tr>\n",
       "    <tr>\n",
       "      <th>263</th>\n",
       "      <td>Hyundai i20 1.2 Asta</td>\n",
       "      <td>2010</td>\n",
       "      <td>300000</td>\n",
       "      <td>70000</td>\n",
       "      <td>Petrol</td>\n",
       "      <td>Individual</td>\n",
       "      <td>Manual</td>\n",
       "      <td>First Owner</td>\n",
       "      <td>17.0 kmpl</td>\n",
       "      <td>1197 CC</td>\n",
       "      <td>80 bhp</td>\n",
       "      <td>11.4 kgm at 4,000 rpm</td>\n",
       "      <td>5.0</td>\n",
       "    </tr>\n",
       "    <tr>\n",
       "      <th>4586</th>\n",
       "      <td>Skoda Octavia L and K 1.9 TDI MT</td>\n",
       "      <td>2005</td>\n",
       "      <td>250000</td>\n",
       "      <td>120000</td>\n",
       "      <td>Diesel</td>\n",
       "      <td>Individual</td>\n",
       "      <td>Manual</td>\n",
       "      <td>Third Owner</td>\n",
       "      <td>16.4 kmpl</td>\n",
       "      <td>1896 CC</td>\n",
       "      <td>90 bhp</td>\n",
       "      <td>21.4@ 1,900(kgm@ rpm)</td>\n",
       "      <td>5.0</td>\n",
       "    </tr>\n",
       "    <tr>\n",
       "      <th>4479</th>\n",
       "      <td>Maruti Ciaz ZXi</td>\n",
       "      <td>2016</td>\n",
       "      <td>700000</td>\n",
       "      <td>20000</td>\n",
       "      <td>Petrol</td>\n",
       "      <td>Individual</td>\n",
       "      <td>Manual</td>\n",
       "      <td>First Owner</td>\n",
       "      <td>20.73 kmpl</td>\n",
       "      <td>1373 CC</td>\n",
       "      <td>91.1 bhp</td>\n",
       "      <td>130Nm@ 4000rpm</td>\n",
       "      <td>5.0</td>\n",
       "    </tr>\n",
       "    <tr>\n",
       "      <th>4881</th>\n",
       "      <td>Hyundai Grand i10 1.2 Kappa Magna BSIV</td>\n",
       "      <td>2017</td>\n",
       "      <td>445000</td>\n",
       "      <td>27000</td>\n",
       "      <td>Petrol</td>\n",
       "      <td>Individual</td>\n",
       "      <td>Manual</td>\n",
       "      <td>First Owner</td>\n",
       "      <td>18.9 kmpl</td>\n",
       "      <td>1197 CC</td>\n",
       "      <td>81.86 bhp</td>\n",
       "      <td>113.75nm@ 4000rpm</td>\n",
       "      <td>5.0</td>\n",
       "    </tr>\n",
       "    <tr>\n",
       "      <th>3583</th>\n",
       "      <td>Ford Ecosport 1.5 DV5 MT Trend</td>\n",
       "      <td>2016</td>\n",
       "      <td>515000</td>\n",
       "      <td>68609</td>\n",
       "      <td>Diesel</td>\n",
       "      <td>Dealer</td>\n",
       "      <td>Manual</td>\n",
       "      <td>First Owner</td>\n",
       "      <td>22.7 kmpl</td>\n",
       "      <td>1498 CC</td>\n",
       "      <td>89.84 bhp</td>\n",
       "      <td>204Nm@ 2000-2750rpm</td>\n",
       "      <td>5.0</td>\n",
       "    </tr>\n",
       "    <tr>\n",
       "      <th>6361</th>\n",
       "      <td>Hyundai Verna 1.4 VTVT</td>\n",
       "      <td>2014</td>\n",
       "      <td>500000</td>\n",
       "      <td>33400</td>\n",
       "      <td>Petrol</td>\n",
       "      <td>Individual</td>\n",
       "      <td>Manual</td>\n",
       "      <td>First Owner</td>\n",
       "      <td>17.43 kmpl</td>\n",
       "      <td>1396 CC</td>\n",
       "      <td>105.5 bhp</td>\n",
       "      <td>135.3Nm@ 5000rpm</td>\n",
       "      <td>5.0</td>\n",
       "    </tr>\n",
       "    <tr>\n",
       "      <th>4108</th>\n",
       "      <td>Hyundai i20 Era 1.2</td>\n",
       "      <td>2015</td>\n",
       "      <td>490000</td>\n",
       "      <td>45900</td>\n",
       "      <td>Petrol</td>\n",
       "      <td>Individual</td>\n",
       "      <td>Manual</td>\n",
       "      <td>Second Owner</td>\n",
       "      <td>18.6 kmpl</td>\n",
       "      <td>1197 CC</td>\n",
       "      <td>81.83 bhp</td>\n",
       "      <td>114.7Nm@ 4000rpm</td>\n",
       "      <td>5.0</td>\n",
       "    </tr>\n",
       "  </tbody>\n",
       "</table>\n",
       "</div>"
      ],
      "text/plain": [
       "                                        name  year  selling_price  km_driven   \n",
       "6565        Renault KWID Climber 1.0 MT BSIV  2019         300000      35000  \\\n",
       "2943                      Maruti Wagon R LXI  2013         225000      58343   \n",
       "2024                    Hyundai i20 Asta 1.2  2013         360000      30000   \n",
       "263                     Hyundai i20 1.2 Asta  2010         300000      70000   \n",
       "4586        Skoda Octavia L and K 1.9 TDI MT  2005         250000     120000   \n",
       "4479                         Maruti Ciaz ZXi  2016         700000      20000   \n",
       "4881  Hyundai Grand i10 1.2 Kappa Magna BSIV  2017         445000      27000   \n",
       "3583          Ford Ecosport 1.5 DV5 MT Trend  2016         515000      68609   \n",
       "6361                  Hyundai Verna 1.4 VTVT  2014         500000      33400   \n",
       "4108                     Hyundai i20 Era 1.2  2015         490000      45900   \n",
       "\n",
       "        fuel       seller_type transmission         owner     mileage   \n",
       "6565  Petrol        Individual       Manual   First Owner  23.01 kmpl  \\\n",
       "2943  Petrol  Trustmark Dealer       Manual   First Owner  21.79 kmpl   \n",
       "2024  Petrol        Individual       Manual   First Owner   18.5 kmpl   \n",
       "263   Petrol        Individual       Manual   First Owner   17.0 kmpl   \n",
       "4586  Diesel        Individual       Manual   Third Owner   16.4 kmpl   \n",
       "4479  Petrol        Individual       Manual   First Owner  20.73 kmpl   \n",
       "4881  Petrol        Individual       Manual   First Owner   18.9 kmpl   \n",
       "3583  Diesel            Dealer       Manual   First Owner   22.7 kmpl   \n",
       "6361  Petrol        Individual       Manual   First Owner  17.43 kmpl   \n",
       "4108  Petrol        Individual       Manual  Second Owner   18.6 kmpl   \n",
       "\n",
       "       engine  max_power                 torque  seats  \n",
       "6565   999 CC     67 bhp          91Nm@ 4250rpm    5.0  \n",
       "2943   998 CC  67.05 bhp          90Nm@ 3500rpm    5.0  \n",
       "2024  1197 CC  82.85 bhp       113.7Nm@ 4000rpm    5.0  \n",
       "263   1197 CC     80 bhp  11.4 kgm at 4,000 rpm    5.0  \n",
       "4586  1896 CC     90 bhp  21.4@ 1,900(kgm@ rpm)    5.0  \n",
       "4479  1373 CC   91.1 bhp         130Nm@ 4000rpm    5.0  \n",
       "4881  1197 CC  81.86 bhp      113.75nm@ 4000rpm    5.0  \n",
       "3583  1498 CC  89.84 bhp    204Nm@ 2000-2750rpm    5.0  \n",
       "6361  1396 CC  105.5 bhp       135.3Nm@ 5000rpm    5.0  \n",
       "4108  1197 CC  81.83 bhp       114.7Nm@ 4000rpm    5.0  "
      ]
     },
     "execution_count": 144,
     "metadata": {},
     "output_type": "execute_result"
    }
   ],
   "source": [
    "df_train.sample(10)"
   ]
  },
  {
   "cell_type": "markdown",
   "metadata": {
    "id": "c5UQKCGTxogp"
   },
   "source": [
    "(0.1 балла) <font color='#9933CC'>Отобразите первые 5 и последние 5 объектов тестового датасета</font>"
   ]
  },
  {
   "cell_type": "code",
   "execution_count": 145,
   "metadata": {
    "id": "-MueJLE4rO1g"
   },
   "outputs": [
    {
     "data": {
      "text/html": [
       "<div>\n",
       "<style scoped>\n",
       "    .dataframe tbody tr th:only-of-type {\n",
       "        vertical-align: middle;\n",
       "    }\n",
       "\n",
       "    .dataframe tbody tr th {\n",
       "        vertical-align: top;\n",
       "    }\n",
       "\n",
       "    .dataframe thead th {\n",
       "        text-align: right;\n",
       "    }\n",
       "</style>\n",
       "<table border=\"1\" class=\"dataframe\">\n",
       "  <thead>\n",
       "    <tr style=\"text-align: right;\">\n",
       "      <th></th>\n",
       "      <th>name</th>\n",
       "      <th>year</th>\n",
       "      <th>selling_price</th>\n",
       "      <th>km_driven</th>\n",
       "      <th>fuel</th>\n",
       "      <th>seller_type</th>\n",
       "      <th>transmission</th>\n",
       "      <th>owner</th>\n",
       "      <th>mileage</th>\n",
       "      <th>engine</th>\n",
       "      <th>max_power</th>\n",
       "      <th>torque</th>\n",
       "      <th>seats</th>\n",
       "    </tr>\n",
       "  </thead>\n",
       "  <tbody>\n",
       "    <tr>\n",
       "      <th>0</th>\n",
       "      <td>Mahindra Xylo E4 BS IV</td>\n",
       "      <td>2010</td>\n",
       "      <td>229999</td>\n",
       "      <td>168000</td>\n",
       "      <td>Diesel</td>\n",
       "      <td>Individual</td>\n",
       "      <td>Manual</td>\n",
       "      <td>First Owner</td>\n",
       "      <td>14.0 kmpl</td>\n",
       "      <td>2498 CC</td>\n",
       "      <td>112 bhp</td>\n",
       "      <td>260 Nm at 1800-2200 rpm</td>\n",
       "      <td>7.0</td>\n",
       "    </tr>\n",
       "    <tr>\n",
       "      <th>1</th>\n",
       "      <td>Tata Nexon 1.5 Revotorq XE</td>\n",
       "      <td>2017</td>\n",
       "      <td>665000</td>\n",
       "      <td>25000</td>\n",
       "      <td>Diesel</td>\n",
       "      <td>Individual</td>\n",
       "      <td>Manual</td>\n",
       "      <td>First Owner</td>\n",
       "      <td>21.5 kmpl</td>\n",
       "      <td>1497 CC</td>\n",
       "      <td>108.5 bhp</td>\n",
       "      <td>260Nm@ 1500-2750rpm</td>\n",
       "      <td>5.0</td>\n",
       "    </tr>\n",
       "    <tr>\n",
       "      <th>2</th>\n",
       "      <td>Honda Civic 1.8 S AT</td>\n",
       "      <td>2007</td>\n",
       "      <td>175000</td>\n",
       "      <td>218463</td>\n",
       "      <td>Petrol</td>\n",
       "      <td>Individual</td>\n",
       "      <td>Automatic</td>\n",
       "      <td>First Owner</td>\n",
       "      <td>12.9 kmpl</td>\n",
       "      <td>1799 CC</td>\n",
       "      <td>130 bhp</td>\n",
       "      <td>172Nm@ 4300rpm</td>\n",
       "      <td>5.0</td>\n",
       "    </tr>\n",
       "    <tr>\n",
       "      <th>3</th>\n",
       "      <td>Honda City i DTEC VX</td>\n",
       "      <td>2015</td>\n",
       "      <td>635000</td>\n",
       "      <td>173000</td>\n",
       "      <td>Diesel</td>\n",
       "      <td>Individual</td>\n",
       "      <td>Manual</td>\n",
       "      <td>First Owner</td>\n",
       "      <td>25.1 kmpl</td>\n",
       "      <td>1498 CC</td>\n",
       "      <td>98.6 bhp</td>\n",
       "      <td>200Nm@ 1750rpm</td>\n",
       "      <td>5.0</td>\n",
       "    </tr>\n",
       "    <tr>\n",
       "      <th>4</th>\n",
       "      <td>Tata Indica Vista Aura 1.2 Safire BSIV</td>\n",
       "      <td>2011</td>\n",
       "      <td>130000</td>\n",
       "      <td>70000</td>\n",
       "      <td>Petrol</td>\n",
       "      <td>Individual</td>\n",
       "      <td>Manual</td>\n",
       "      <td>Second Owner</td>\n",
       "      <td>16.5 kmpl</td>\n",
       "      <td>1172 CC</td>\n",
       "      <td>65 bhp</td>\n",
       "      <td>96  Nm at 3000  rpm</td>\n",
       "      <td>5.0</td>\n",
       "    </tr>\n",
       "    <tr>\n",
       "      <th>995</th>\n",
       "      <td>Hyundai i10 Magna 1.1L</td>\n",
       "      <td>2008</td>\n",
       "      <td>250000</td>\n",
       "      <td>100000</td>\n",
       "      <td>Petrol</td>\n",
       "      <td>Individual</td>\n",
       "      <td>Manual</td>\n",
       "      <td>Second Owner</td>\n",
       "      <td>19.81 kmpl</td>\n",
       "      <td>1086 CC</td>\n",
       "      <td>68.05 bhp</td>\n",
       "      <td>99.04Nm@ 4500rpm</td>\n",
       "      <td>5.0</td>\n",
       "    </tr>\n",
       "    <tr>\n",
       "      <th>996</th>\n",
       "      <td>Hyundai i20 2015-2017 Sportz 1.2</td>\n",
       "      <td>2017</td>\n",
       "      <td>440000</td>\n",
       "      <td>50000</td>\n",
       "      <td>Petrol</td>\n",
       "      <td>Individual</td>\n",
       "      <td>Manual</td>\n",
       "      <td>Second Owner</td>\n",
       "      <td>18.6 kmpl</td>\n",
       "      <td>1197 CC</td>\n",
       "      <td>81.83 bhp</td>\n",
       "      <td>114.7Nm@ 4000rpm</td>\n",
       "      <td>5.0</td>\n",
       "    </tr>\n",
       "    <tr>\n",
       "      <th>997</th>\n",
       "      <td>Hyundai i20 Era Diesel</td>\n",
       "      <td>2009</td>\n",
       "      <td>340000</td>\n",
       "      <td>40000</td>\n",
       "      <td>Diesel</td>\n",
       "      <td>Individual</td>\n",
       "      <td>Manual</td>\n",
       "      <td>First Owner</td>\n",
       "      <td>23.0 kmpl</td>\n",
       "      <td>1396 CC</td>\n",
       "      <td>90 bhp</td>\n",
       "      <td>22.4 kgm at 1750-2750rpm</td>\n",
       "      <td>5.0</td>\n",
       "    </tr>\n",
       "    <tr>\n",
       "      <th>998</th>\n",
       "      <td>Hyundai i10 Asta</td>\n",
       "      <td>2012</td>\n",
       "      <td>350000</td>\n",
       "      <td>25000</td>\n",
       "      <td>Petrol</td>\n",
       "      <td>Individual</td>\n",
       "      <td>Manual</td>\n",
       "      <td>First Owner</td>\n",
       "      <td>20.36 kmpl</td>\n",
       "      <td>1197 CC</td>\n",
       "      <td>78.9 bhp</td>\n",
       "      <td>111.8Nm@ 4000rpm</td>\n",
       "      <td>5.0</td>\n",
       "    </tr>\n",
       "    <tr>\n",
       "      <th>999</th>\n",
       "      <td>Honda City i DTec SV</td>\n",
       "      <td>2016</td>\n",
       "      <td>700000</td>\n",
       "      <td>110000</td>\n",
       "      <td>Diesel</td>\n",
       "      <td>Individual</td>\n",
       "      <td>Manual</td>\n",
       "      <td>First Owner</td>\n",
       "      <td>26.0 kmpl</td>\n",
       "      <td>1498 CC</td>\n",
       "      <td>98.6 bhp</td>\n",
       "      <td>200Nm@ 1750rpm</td>\n",
       "      <td>5.0</td>\n",
       "    </tr>\n",
       "  </tbody>\n",
       "</table>\n",
       "</div>"
      ],
      "text/plain": [
       "                                       name  year  selling_price  km_driven   \n",
       "0                    Mahindra Xylo E4 BS IV  2010         229999     168000  \\\n",
       "1                Tata Nexon 1.5 Revotorq XE  2017         665000      25000   \n",
       "2                      Honda Civic 1.8 S AT  2007         175000     218463   \n",
       "3                      Honda City i DTEC VX  2015         635000     173000   \n",
       "4    Tata Indica Vista Aura 1.2 Safire BSIV  2011         130000      70000   \n",
       "995                  Hyundai i10 Magna 1.1L  2008         250000     100000   \n",
       "996        Hyundai i20 2015-2017 Sportz 1.2  2017         440000      50000   \n",
       "997                  Hyundai i20 Era Diesel  2009         340000      40000   \n",
       "998                        Hyundai i10 Asta  2012         350000      25000   \n",
       "999                    Honda City i DTec SV  2016         700000     110000   \n",
       "\n",
       "       fuel seller_type transmission         owner     mileage   engine   \n",
       "0    Diesel  Individual       Manual   First Owner   14.0 kmpl  2498 CC  \\\n",
       "1    Diesel  Individual       Manual   First Owner   21.5 kmpl  1497 CC   \n",
       "2    Petrol  Individual    Automatic   First Owner   12.9 kmpl  1799 CC   \n",
       "3    Diesel  Individual       Manual   First Owner   25.1 kmpl  1498 CC   \n",
       "4    Petrol  Individual       Manual  Second Owner   16.5 kmpl  1172 CC   \n",
       "995  Petrol  Individual       Manual  Second Owner  19.81 kmpl  1086 CC   \n",
       "996  Petrol  Individual       Manual  Second Owner   18.6 kmpl  1197 CC   \n",
       "997  Diesel  Individual       Manual   First Owner   23.0 kmpl  1396 CC   \n",
       "998  Petrol  Individual       Manual   First Owner  20.36 kmpl  1197 CC   \n",
       "999  Diesel  Individual       Manual   First Owner   26.0 kmpl  1498 CC   \n",
       "\n",
       "     max_power                    torque  seats  \n",
       "0      112 bhp   260 Nm at 1800-2200 rpm    7.0  \n",
       "1    108.5 bhp       260Nm@ 1500-2750rpm    5.0  \n",
       "2      130 bhp            172Nm@ 4300rpm    5.0  \n",
       "3     98.6 bhp            200Nm@ 1750rpm    5.0  \n",
       "4       65 bhp      96  Nm at 3000  rpm     5.0  \n",
       "995  68.05 bhp          99.04Nm@ 4500rpm    5.0  \n",
       "996  81.83 bhp          114.7Nm@ 4000rpm    5.0  \n",
       "997     90 bhp  22.4 kgm at 1750-2750rpm    5.0  \n",
       "998   78.9 bhp          111.8Nm@ 4000rpm    5.0  \n",
       "999   98.6 bhp            200Nm@ 1750rpm    5.0  "
      ]
     },
     "execution_count": 145,
     "metadata": {},
     "output_type": "execute_result"
    }
   ],
   "source": [
    "pd.concat((df_test.head(),df_test.tail()))"
   ]
  },
  {
   "cell_type": "markdown",
   "metadata": {
    "id": "6fAcrLkBygwE"
   },
   "source": [
    "(0.1 балла) <font color='#9933CC'>Посчитайте основные статистики как по числовым, так и по категориальным столбцам для трейна и теста</font>. \n",
    "> Подсказка: ``.describe()`` с нужным(и) аргументом(-ами)\n",
    "\n"
   ]
  },
  {
   "cell_type": "code",
   "execution_count": 146,
   "metadata": {
    "id": "eaiIQCvMrPUb"
   },
   "outputs": [
    {
     "data": {
      "text/html": [
       "<div>\n",
       "<style scoped>\n",
       "    .dataframe tbody tr th:only-of-type {\n",
       "        vertical-align: middle;\n",
       "    }\n",
       "\n",
       "    .dataframe tbody tr th {\n",
       "        vertical-align: top;\n",
       "    }\n",
       "\n",
       "    .dataframe thead th {\n",
       "        text-align: right;\n",
       "    }\n",
       "</style>\n",
       "<table border=\"1\" class=\"dataframe\">\n",
       "  <thead>\n",
       "    <tr style=\"text-align: right;\">\n",
       "      <th></th>\n",
       "      <th>name</th>\n",
       "      <th>year</th>\n",
       "      <th>selling_price</th>\n",
       "      <th>km_driven</th>\n",
       "      <th>fuel</th>\n",
       "      <th>seller_type</th>\n",
       "      <th>transmission</th>\n",
       "      <th>owner</th>\n",
       "      <th>mileage</th>\n",
       "      <th>engine</th>\n",
       "      <th>max_power</th>\n",
       "      <th>torque</th>\n",
       "      <th>seats</th>\n",
       "    </tr>\n",
       "  </thead>\n",
       "  <tbody>\n",
       "    <tr>\n",
       "      <th>count</th>\n",
       "      <td>6999</td>\n",
       "      <td>6999.000000</td>\n",
       "      <td>6.999000e+03</td>\n",
       "      <td>6.999000e+03</td>\n",
       "      <td>6999</td>\n",
       "      <td>6999</td>\n",
       "      <td>6999</td>\n",
       "      <td>6999</td>\n",
       "      <td>6797</td>\n",
       "      <td>6797</td>\n",
       "      <td>6803</td>\n",
       "      <td>6796</td>\n",
       "      <td>6797.000000</td>\n",
       "    </tr>\n",
       "    <tr>\n",
       "      <th>unique</th>\n",
       "      <td>1924</td>\n",
       "      <td>NaN</td>\n",
       "      <td>NaN</td>\n",
       "      <td>NaN</td>\n",
       "      <td>4</td>\n",
       "      <td>3</td>\n",
       "      <td>2</td>\n",
       "      <td>5</td>\n",
       "      <td>386</td>\n",
       "      <td>120</td>\n",
       "      <td>316</td>\n",
       "      <td>419</td>\n",
       "      <td>NaN</td>\n",
       "    </tr>\n",
       "    <tr>\n",
       "      <th>top</th>\n",
       "      <td>Maruti Swift Dzire VDI</td>\n",
       "      <td>NaN</td>\n",
       "      <td>NaN</td>\n",
       "      <td>NaN</td>\n",
       "      <td>Diesel</td>\n",
       "      <td>Individual</td>\n",
       "      <td>Manual</td>\n",
       "      <td>First Owner</td>\n",
       "      <td>18.9 kmpl</td>\n",
       "      <td>1248 CC</td>\n",
       "      <td>74 bhp</td>\n",
       "      <td>190Nm@ 2000rpm</td>\n",
       "      <td>NaN</td>\n",
       "    </tr>\n",
       "    <tr>\n",
       "      <th>freq</th>\n",
       "      <td>116</td>\n",
       "      <td>NaN</td>\n",
       "      <td>NaN</td>\n",
       "      <td>NaN</td>\n",
       "      <td>3793</td>\n",
       "      <td>5826</td>\n",
       "      <td>6095</td>\n",
       "      <td>4587</td>\n",
       "      <td>197</td>\n",
       "      <td>885</td>\n",
       "      <td>330</td>\n",
       "      <td>468</td>\n",
       "      <td>NaN</td>\n",
       "    </tr>\n",
       "    <tr>\n",
       "      <th>mean</th>\n",
       "      <td>NaN</td>\n",
       "      <td>2013.818403</td>\n",
       "      <td>6.395152e+05</td>\n",
       "      <td>6.958462e+04</td>\n",
       "      <td>NaN</td>\n",
       "      <td>NaN</td>\n",
       "      <td>NaN</td>\n",
       "      <td>NaN</td>\n",
       "      <td>NaN</td>\n",
       "      <td>NaN</td>\n",
       "      <td>NaN</td>\n",
       "      <td>NaN</td>\n",
       "      <td>5.419008</td>\n",
       "    </tr>\n",
       "    <tr>\n",
       "      <th>std</th>\n",
       "      <td>NaN</td>\n",
       "      <td>4.053095</td>\n",
       "      <td>8.089419e+05</td>\n",
       "      <td>5.772400e+04</td>\n",
       "      <td>NaN</td>\n",
       "      <td>NaN</td>\n",
       "      <td>NaN</td>\n",
       "      <td>NaN</td>\n",
       "      <td>NaN</td>\n",
       "      <td>NaN</td>\n",
       "      <td>NaN</td>\n",
       "      <td>NaN</td>\n",
       "      <td>0.965767</td>\n",
       "    </tr>\n",
       "    <tr>\n",
       "      <th>min</th>\n",
       "      <td>NaN</td>\n",
       "      <td>1983.000000</td>\n",
       "      <td>2.999900e+04</td>\n",
       "      <td>1.000000e+00</td>\n",
       "      <td>NaN</td>\n",
       "      <td>NaN</td>\n",
       "      <td>NaN</td>\n",
       "      <td>NaN</td>\n",
       "      <td>NaN</td>\n",
       "      <td>NaN</td>\n",
       "      <td>NaN</td>\n",
       "      <td>NaN</td>\n",
       "      <td>2.000000</td>\n",
       "    </tr>\n",
       "    <tr>\n",
       "      <th>25%</th>\n",
       "      <td>NaN</td>\n",
       "      <td>2011.000000</td>\n",
       "      <td>2.549990e+05</td>\n",
       "      <td>3.500000e+04</td>\n",
       "      <td>NaN</td>\n",
       "      <td>NaN</td>\n",
       "      <td>NaN</td>\n",
       "      <td>NaN</td>\n",
       "      <td>NaN</td>\n",
       "      <td>NaN</td>\n",
       "      <td>NaN</td>\n",
       "      <td>NaN</td>\n",
       "      <td>5.000000</td>\n",
       "    </tr>\n",
       "    <tr>\n",
       "      <th>50%</th>\n",
       "      <td>NaN</td>\n",
       "      <td>2015.000000</td>\n",
       "      <td>4.500000e+05</td>\n",
       "      <td>6.000000e+04</td>\n",
       "      <td>NaN</td>\n",
       "      <td>NaN</td>\n",
       "      <td>NaN</td>\n",
       "      <td>NaN</td>\n",
       "      <td>NaN</td>\n",
       "      <td>NaN</td>\n",
       "      <td>NaN</td>\n",
       "      <td>NaN</td>\n",
       "      <td>5.000000</td>\n",
       "    </tr>\n",
       "    <tr>\n",
       "      <th>75%</th>\n",
       "      <td>NaN</td>\n",
       "      <td>2017.000000</td>\n",
       "      <td>6.750000e+05</td>\n",
       "      <td>9.700000e+04</td>\n",
       "      <td>NaN</td>\n",
       "      <td>NaN</td>\n",
       "      <td>NaN</td>\n",
       "      <td>NaN</td>\n",
       "      <td>NaN</td>\n",
       "      <td>NaN</td>\n",
       "      <td>NaN</td>\n",
       "      <td>NaN</td>\n",
       "      <td>5.000000</td>\n",
       "    </tr>\n",
       "    <tr>\n",
       "      <th>max</th>\n",
       "      <td>NaN</td>\n",
       "      <td>2020.000000</td>\n",
       "      <td>1.000000e+07</td>\n",
       "      <td>2.360457e+06</td>\n",
       "      <td>NaN</td>\n",
       "      <td>NaN</td>\n",
       "      <td>NaN</td>\n",
       "      <td>NaN</td>\n",
       "      <td>NaN</td>\n",
       "      <td>NaN</td>\n",
       "      <td>NaN</td>\n",
       "      <td>NaN</td>\n",
       "      <td>14.000000</td>\n",
       "    </tr>\n",
       "  </tbody>\n",
       "</table>\n",
       "</div>"
      ],
      "text/plain": [
       "                          name         year  selling_price     km_driven   \n",
       "count                     6999  6999.000000   6.999000e+03  6.999000e+03  \\\n",
       "unique                    1924          NaN            NaN           NaN   \n",
       "top     Maruti Swift Dzire VDI          NaN            NaN           NaN   \n",
       "freq                       116          NaN            NaN           NaN   \n",
       "mean                       NaN  2013.818403   6.395152e+05  6.958462e+04   \n",
       "std                        NaN     4.053095   8.089419e+05  5.772400e+04   \n",
       "min                        NaN  1983.000000   2.999900e+04  1.000000e+00   \n",
       "25%                        NaN  2011.000000   2.549990e+05  3.500000e+04   \n",
       "50%                        NaN  2015.000000   4.500000e+05  6.000000e+04   \n",
       "75%                        NaN  2017.000000   6.750000e+05  9.700000e+04   \n",
       "max                        NaN  2020.000000   1.000000e+07  2.360457e+06   \n",
       "\n",
       "          fuel seller_type transmission        owner    mileage   engine   \n",
       "count     6999        6999         6999         6999       6797     6797  \\\n",
       "unique       4           3            2            5        386      120   \n",
       "top     Diesel  Individual       Manual  First Owner  18.9 kmpl  1248 CC   \n",
       "freq      3793        5826         6095         4587        197      885   \n",
       "mean       NaN         NaN          NaN          NaN        NaN      NaN   \n",
       "std        NaN         NaN          NaN          NaN        NaN      NaN   \n",
       "min        NaN         NaN          NaN          NaN        NaN      NaN   \n",
       "25%        NaN         NaN          NaN          NaN        NaN      NaN   \n",
       "50%        NaN         NaN          NaN          NaN        NaN      NaN   \n",
       "75%        NaN         NaN          NaN          NaN        NaN      NaN   \n",
       "max        NaN         NaN          NaN          NaN        NaN      NaN   \n",
       "\n",
       "       max_power          torque        seats  \n",
       "count       6803            6796  6797.000000  \n",
       "unique       316             419          NaN  \n",
       "top       74 bhp  190Nm@ 2000rpm          NaN  \n",
       "freq         330             468          NaN  \n",
       "mean         NaN             NaN     5.419008  \n",
       "std          NaN             NaN     0.965767  \n",
       "min          NaN             NaN     2.000000  \n",
       "25%          NaN             NaN     5.000000  \n",
       "50%          NaN             NaN     5.000000  \n",
       "75%          NaN             NaN     5.000000  \n",
       "max          NaN             NaN    14.000000  "
      ]
     },
     "execution_count": 146,
     "metadata": {},
     "output_type": "execute_result"
    }
   ],
   "source": [
    "df_train.describe(include='all')"
   ]
  },
  {
   "cell_type": "code",
   "execution_count": 147,
   "metadata": {},
   "outputs": [
    {
     "data": {
      "text/html": [
       "<div>\n",
       "<style scoped>\n",
       "    .dataframe tbody tr th:only-of-type {\n",
       "        vertical-align: middle;\n",
       "    }\n",
       "\n",
       "    .dataframe tbody tr th {\n",
       "        vertical-align: top;\n",
       "    }\n",
       "\n",
       "    .dataframe thead th {\n",
       "        text-align: right;\n",
       "    }\n",
       "</style>\n",
       "<table border=\"1\" class=\"dataframe\">\n",
       "  <thead>\n",
       "    <tr style=\"text-align: right;\">\n",
       "      <th></th>\n",
       "      <th>name</th>\n",
       "      <th>year</th>\n",
       "      <th>selling_price</th>\n",
       "      <th>km_driven</th>\n",
       "      <th>fuel</th>\n",
       "      <th>seller_type</th>\n",
       "      <th>transmission</th>\n",
       "      <th>owner</th>\n",
       "      <th>mileage</th>\n",
       "      <th>engine</th>\n",
       "      <th>max_power</th>\n",
       "      <th>torque</th>\n",
       "      <th>seats</th>\n",
       "    </tr>\n",
       "  </thead>\n",
       "  <tbody>\n",
       "    <tr>\n",
       "      <th>count</th>\n",
       "      <td>1000</td>\n",
       "      <td>1000.000000</td>\n",
       "      <td>1.000000e+03</td>\n",
       "      <td>1000.000000</td>\n",
       "      <td>1000</td>\n",
       "      <td>1000</td>\n",
       "      <td>1000</td>\n",
       "      <td>1000</td>\n",
       "      <td>981</td>\n",
       "      <td>981</td>\n",
       "      <td>981</td>\n",
       "      <td>981</td>\n",
       "      <td>981.000000</td>\n",
       "    </tr>\n",
       "    <tr>\n",
       "      <th>unique</th>\n",
       "      <td>621</td>\n",
       "      <td>NaN</td>\n",
       "      <td>NaN</td>\n",
       "      <td>NaN</td>\n",
       "      <td>4</td>\n",
       "      <td>3</td>\n",
       "      <td>2</td>\n",
       "      <td>5</td>\n",
       "      <td>237</td>\n",
       "      <td>88</td>\n",
       "      <td>182</td>\n",
       "      <td>226</td>\n",
       "      <td>NaN</td>\n",
       "    </tr>\n",
       "    <tr>\n",
       "      <th>top</th>\n",
       "      <td>Maruti Alto 800 LXI</td>\n",
       "      <td>NaN</td>\n",
       "      <td>NaN</td>\n",
       "      <td>NaN</td>\n",
       "      <td>Diesel</td>\n",
       "      <td>Individual</td>\n",
       "      <td>Manual</td>\n",
       "      <td>First Owner</td>\n",
       "      <td>18.6 kmpl</td>\n",
       "      <td>1248 CC</td>\n",
       "      <td>74 bhp</td>\n",
       "      <td>200Nm@ 1750rpm</td>\n",
       "      <td>NaN</td>\n",
       "    </tr>\n",
       "    <tr>\n",
       "      <th>freq</th>\n",
       "      <td>15</td>\n",
       "      <td>NaN</td>\n",
       "      <td>NaN</td>\n",
       "      <td>NaN</td>\n",
       "      <td>534</td>\n",
       "      <td>837</td>\n",
       "      <td>877</td>\n",
       "      <td>623</td>\n",
       "      <td>23</td>\n",
       "      <td>116</td>\n",
       "      <td>43</td>\n",
       "      <td>57</td>\n",
       "      <td>NaN</td>\n",
       "    </tr>\n",
       "    <tr>\n",
       "      <th>mean</th>\n",
       "      <td>NaN</td>\n",
       "      <td>2013.681000</td>\n",
       "      <td>6.179010e+05</td>\n",
       "      <td>71393.341000</td>\n",
       "      <td>NaN</td>\n",
       "      <td>NaN</td>\n",
       "      <td>NaN</td>\n",
       "      <td>NaN</td>\n",
       "      <td>NaN</td>\n",
       "      <td>NaN</td>\n",
       "      <td>NaN</td>\n",
       "      <td>NaN</td>\n",
       "      <td>5.410805</td>\n",
       "    </tr>\n",
       "    <tr>\n",
       "      <th>std</th>\n",
       "      <td>NaN</td>\n",
       "      <td>4.012149</td>\n",
       "      <td>7.585539e+05</td>\n",
       "      <td>48486.218662</td>\n",
       "      <td>NaN</td>\n",
       "      <td>NaN</td>\n",
       "      <td>NaN</td>\n",
       "      <td>NaN</td>\n",
       "      <td>NaN</td>\n",
       "      <td>NaN</td>\n",
       "      <td>NaN</td>\n",
       "      <td>NaN</td>\n",
       "      <td>0.919985</td>\n",
       "    </tr>\n",
       "    <tr>\n",
       "      <th>min</th>\n",
       "      <td>NaN</td>\n",
       "      <td>1995.000000</td>\n",
       "      <td>3.100000e+04</td>\n",
       "      <td>1303.000000</td>\n",
       "      <td>NaN</td>\n",
       "      <td>NaN</td>\n",
       "      <td>NaN</td>\n",
       "      <td>NaN</td>\n",
       "      <td>NaN</td>\n",
       "      <td>NaN</td>\n",
       "      <td>NaN</td>\n",
       "      <td>NaN</td>\n",
       "      <td>4.000000</td>\n",
       "    </tr>\n",
       "    <tr>\n",
       "      <th>25%</th>\n",
       "      <td>NaN</td>\n",
       "      <td>2011.000000</td>\n",
       "      <td>2.500000e+05</td>\n",
       "      <td>37000.000000</td>\n",
       "      <td>NaN</td>\n",
       "      <td>NaN</td>\n",
       "      <td>NaN</td>\n",
       "      <td>NaN</td>\n",
       "      <td>NaN</td>\n",
       "      <td>NaN</td>\n",
       "      <td>NaN</td>\n",
       "      <td>NaN</td>\n",
       "      <td>5.000000</td>\n",
       "    </tr>\n",
       "    <tr>\n",
       "      <th>50%</th>\n",
       "      <td>NaN</td>\n",
       "      <td>2014.000000</td>\n",
       "      <td>4.349990e+05</td>\n",
       "      <td>61500.000000</td>\n",
       "      <td>NaN</td>\n",
       "      <td>NaN</td>\n",
       "      <td>NaN</td>\n",
       "      <td>NaN</td>\n",
       "      <td>NaN</td>\n",
       "      <td>NaN</td>\n",
       "      <td>NaN</td>\n",
       "      <td>NaN</td>\n",
       "      <td>5.000000</td>\n",
       "    </tr>\n",
       "    <tr>\n",
       "      <th>75%</th>\n",
       "      <td>NaN</td>\n",
       "      <td>2017.000000</td>\n",
       "      <td>6.700000e+05</td>\n",
       "      <td>100000.000000</td>\n",
       "      <td>NaN</td>\n",
       "      <td>NaN</td>\n",
       "      <td>NaN</td>\n",
       "      <td>NaN</td>\n",
       "      <td>NaN</td>\n",
       "      <td>NaN</td>\n",
       "      <td>NaN</td>\n",
       "      <td>NaN</td>\n",
       "      <td>5.000000</td>\n",
       "    </tr>\n",
       "    <tr>\n",
       "      <th>max</th>\n",
       "      <td>NaN</td>\n",
       "      <td>2020.000000</td>\n",
       "      <td>6.000000e+06</td>\n",
       "      <td>375000.000000</td>\n",
       "      <td>NaN</td>\n",
       "      <td>NaN</td>\n",
       "      <td>NaN</td>\n",
       "      <td>NaN</td>\n",
       "      <td>NaN</td>\n",
       "      <td>NaN</td>\n",
       "      <td>NaN</td>\n",
       "      <td>NaN</td>\n",
       "      <td>9.000000</td>\n",
       "    </tr>\n",
       "  </tbody>\n",
       "</table>\n",
       "</div>"
      ],
      "text/plain": [
       "                       name         year  selling_price      km_driven   \n",
       "count                  1000  1000.000000   1.000000e+03    1000.000000  \\\n",
       "unique                  621          NaN            NaN            NaN   \n",
       "top     Maruti Alto 800 LXI          NaN            NaN            NaN   \n",
       "freq                     15          NaN            NaN            NaN   \n",
       "mean                    NaN  2013.681000   6.179010e+05   71393.341000   \n",
       "std                     NaN     4.012149   7.585539e+05   48486.218662   \n",
       "min                     NaN  1995.000000   3.100000e+04    1303.000000   \n",
       "25%                     NaN  2011.000000   2.500000e+05   37000.000000   \n",
       "50%                     NaN  2014.000000   4.349990e+05   61500.000000   \n",
       "75%                     NaN  2017.000000   6.700000e+05  100000.000000   \n",
       "max                     NaN  2020.000000   6.000000e+06  375000.000000   \n",
       "\n",
       "          fuel seller_type transmission        owner    mileage   engine   \n",
       "count     1000        1000         1000         1000        981      981  \\\n",
       "unique       4           3            2            5        237       88   \n",
       "top     Diesel  Individual       Manual  First Owner  18.6 kmpl  1248 CC   \n",
       "freq       534         837          877          623         23      116   \n",
       "mean       NaN         NaN          NaN          NaN        NaN      NaN   \n",
       "std        NaN         NaN          NaN          NaN        NaN      NaN   \n",
       "min        NaN         NaN          NaN          NaN        NaN      NaN   \n",
       "25%        NaN         NaN          NaN          NaN        NaN      NaN   \n",
       "50%        NaN         NaN          NaN          NaN        NaN      NaN   \n",
       "75%        NaN         NaN          NaN          NaN        NaN      NaN   \n",
       "max        NaN         NaN          NaN          NaN        NaN      NaN   \n",
       "\n",
       "       max_power          torque       seats  \n",
       "count        981             981  981.000000  \n",
       "unique       182             226         NaN  \n",
       "top       74 bhp  200Nm@ 1750rpm         NaN  \n",
       "freq          43              57         NaN  \n",
       "mean         NaN             NaN    5.410805  \n",
       "std          NaN             NaN    0.919985  \n",
       "min          NaN             NaN    4.000000  \n",
       "25%          NaN             NaN    5.000000  \n",
       "50%          NaN             NaN    5.000000  \n",
       "75%          NaN             NaN    5.000000  \n",
       "max          NaN             NaN    9.000000  "
      ]
     },
     "execution_count": 147,
     "metadata": {},
     "output_type": "execute_result"
    }
   ],
   "source": [
    "df_test.describe(include='all')"
   ]
  },
  {
   "cell_type": "markdown",
   "metadata": {
    "id": "1X5_FzDOhjuh"
   },
   "source": [
    "(0.15 балла) <font color='#9933CC'>Посмотрите, есть ли в датасете пропуски.</font>\n",
    "\n",
    "<font color='#FF6600'>Если есть, то в каких колонках?</font>"
   ]
  },
  {
   "cell_type": "code",
   "execution_count": 148,
   "metadata": {
    "id": "67KXN7Fj0Chz"
   },
   "outputs": [
    {
     "data": {
      "text/plain": [
       "name             False\n",
       "year             False\n",
       "selling_price    False\n",
       "km_driven        False\n",
       "fuel             False\n",
       "seller_type      False\n",
       "transmission     False\n",
       "owner            False\n",
       "mileage           True\n",
       "engine            True\n",
       "max_power         True\n",
       "torque            True\n",
       "seats             True\n",
       "dtype: bool"
      ]
     },
     "execution_count": 148,
     "metadata": {},
     "output_type": "execute_result"
    }
   ],
   "source": [
    "df_train.isna().any()"
   ]
  },
  {
   "cell_type": "code",
   "execution_count": 149,
   "metadata": {},
   "outputs": [
    {
     "data": {
      "text/plain": [
       "name             False\n",
       "year             False\n",
       "selling_price    False\n",
       "km_driven        False\n",
       "fuel             False\n",
       "seller_type      False\n",
       "transmission     False\n",
       "owner            False\n",
       "mileage           True\n",
       "engine            True\n",
       "max_power         True\n",
       "torque            True\n",
       "seats             True\n",
       "dtype: bool"
      ]
     },
     "execution_count": 149,
     "metadata": {},
     "output_type": "execute_result"
    }
   ],
   "source": [
    "df_test.isna().any()"
   ]
  },
  {
   "cell_type": "markdown",
   "metadata": {
    "id": "B9KR76Uzjvqa"
   },
   "source": [
    "(0.1 балла) <font color='#9933CC'>Посмотрите, есть ли в трейне объекты с одинаковым признаковым описанием</font> (целевую переменную следует исключить). Если есть, то сколько?"
   ]
  },
  {
   "cell_type": "code",
   "execution_count": 150,
   "metadata": {
    "id": "J3Y-5Vyijys-"
   },
   "outputs": [
    {
     "data": {
      "text/plain": [
       "1159"
      ]
     },
     "execution_count": 150,
     "metadata": {},
     "output_type": "execute_result"
    }
   ],
   "source": [
    "feat_col = ['name', 'year', 'km_driven', 'fuel', 'seller_type',\n",
    "       'transmission', 'owner', 'mileage', 'engine', 'max_power', 'torque',\n",
    "       'seats']\n",
    "df_train.duplicated(subset=feat_col).sum()"
   ]
  },
  {
   "cell_type": "markdown",
   "metadata": {
    "id": "UAwmwOwhlQmA"
   },
   "source": [
    "(0.15 балла) <font color='#9933CC'>Отобразите такие объекты</font>"
   ]
  },
  {
   "cell_type": "code",
   "execution_count": 151,
   "metadata": {
    "id": "nSg0g13Ylgsh"
   },
   "outputs": [
    {
     "data": {
      "text/html": [
       "<div>\n",
       "<style scoped>\n",
       "    .dataframe tbody tr th:only-of-type {\n",
       "        vertical-align: middle;\n",
       "    }\n",
       "\n",
       "    .dataframe tbody tr th {\n",
       "        vertical-align: top;\n",
       "    }\n",
       "\n",
       "    .dataframe thead th {\n",
       "        text-align: right;\n",
       "    }\n",
       "</style>\n",
       "<table border=\"1\" class=\"dataframe\">\n",
       "  <thead>\n",
       "    <tr style=\"text-align: right;\">\n",
       "      <th></th>\n",
       "      <th>name</th>\n",
       "      <th>year</th>\n",
       "      <th>selling_price</th>\n",
       "      <th>km_driven</th>\n",
       "      <th>fuel</th>\n",
       "      <th>seller_type</th>\n",
       "      <th>transmission</th>\n",
       "      <th>owner</th>\n",
       "      <th>mileage</th>\n",
       "      <th>engine</th>\n",
       "      <th>max_power</th>\n",
       "      <th>torque</th>\n",
       "      <th>seats</th>\n",
       "    </tr>\n",
       "  </thead>\n",
       "  <tbody>\n",
       "    <tr>\n",
       "      <th>254</th>\n",
       "      <td>Hyundai Grand i10 Sportz</td>\n",
       "      <td>2017</td>\n",
       "      <td>450000</td>\n",
       "      <td>35000</td>\n",
       "      <td>Petrol</td>\n",
       "      <td>Individual</td>\n",
       "      <td>Manual</td>\n",
       "      <td>First Owner</td>\n",
       "      <td>18.9 kmpl</td>\n",
       "      <td>1197 CC</td>\n",
       "      <td>82 bhp</td>\n",
       "      <td>114Nm@ 4000rpm</td>\n",
       "      <td>5.0</td>\n",
       "    </tr>\n",
       "    <tr>\n",
       "      <th>258</th>\n",
       "      <td>Maruti Swift VXI</td>\n",
       "      <td>2012</td>\n",
       "      <td>330000</td>\n",
       "      <td>50000</td>\n",
       "      <td>Petrol</td>\n",
       "      <td>Individual</td>\n",
       "      <td>Manual</td>\n",
       "      <td>Second Owner</td>\n",
       "      <td>18.6 kmpl</td>\n",
       "      <td>1197 CC</td>\n",
       "      <td>85.8 bhp</td>\n",
       "      <td>114Nm@ 4000rpm</td>\n",
       "      <td>5.0</td>\n",
       "    </tr>\n",
       "    <tr>\n",
       "      <th>268</th>\n",
       "      <td>Maruti Swift Dzire VXI</td>\n",
       "      <td>2014</td>\n",
       "      <td>400000</td>\n",
       "      <td>70000</td>\n",
       "      <td>Petrol</td>\n",
       "      <td>Individual</td>\n",
       "      <td>Manual</td>\n",
       "      <td>Second Owner</td>\n",
       "      <td>19.1 kmpl</td>\n",
       "      <td>1197 CC</td>\n",
       "      <td>85.8 bhp</td>\n",
       "      <td>114Nm@ 4000rpm</td>\n",
       "      <td>5.0</td>\n",
       "    </tr>\n",
       "    <tr>\n",
       "      <th>324</th>\n",
       "      <td>Jaguar XE 2016-2019 2.0L Diesel Prestige</td>\n",
       "      <td>2017</td>\n",
       "      <td>2625000</td>\n",
       "      <td>9000</td>\n",
       "      <td>Diesel</td>\n",
       "      <td>Dealer</td>\n",
       "      <td>Automatic</td>\n",
       "      <td>First Owner</td>\n",
       "      <td>13.6 kmpl</td>\n",
       "      <td>1999 CC</td>\n",
       "      <td>177 bhp</td>\n",
       "      <td>430Nm@ 1750-2500rpm</td>\n",
       "      <td>5.0</td>\n",
       "    </tr>\n",
       "    <tr>\n",
       "      <th>325</th>\n",
       "      <td>Lexus ES 300h</td>\n",
       "      <td>2019</td>\n",
       "      <td>5150000</td>\n",
       "      <td>20000</td>\n",
       "      <td>Petrol</td>\n",
       "      <td>Dealer</td>\n",
       "      <td>Automatic</td>\n",
       "      <td>First Owner</td>\n",
       "      <td>22.37 kmpl</td>\n",
       "      <td>2487 CC</td>\n",
       "      <td>214.56 bhp</td>\n",
       "      <td>202Nm@ 3600-5200rpm</td>\n",
       "      <td>5.0</td>\n",
       "    </tr>\n",
       "    <tr>\n",
       "      <th>...</th>\n",
       "      <td>...</td>\n",
       "      <td>...</td>\n",
       "      <td>...</td>\n",
       "      <td>...</td>\n",
       "      <td>...</td>\n",
       "      <td>...</td>\n",
       "      <td>...</td>\n",
       "      <td>...</td>\n",
       "      <td>...</td>\n",
       "      <td>...</td>\n",
       "      <td>...</td>\n",
       "      <td>...</td>\n",
       "      <td>...</td>\n",
       "    </tr>\n",
       "    <tr>\n",
       "      <th>6947</th>\n",
       "      <td>Chevrolet Spark 1.0 LS</td>\n",
       "      <td>2010</td>\n",
       "      <td>140000</td>\n",
       "      <td>60000</td>\n",
       "      <td>Petrol</td>\n",
       "      <td>Individual</td>\n",
       "      <td>Manual</td>\n",
       "      <td>Second Owner</td>\n",
       "      <td>18.0 kmpl</td>\n",
       "      <td>995 CC</td>\n",
       "      <td>62 bhp</td>\n",
       "      <td>90.3Nm@ 4200rpm</td>\n",
       "      <td>5.0</td>\n",
       "    </tr>\n",
       "    <tr>\n",
       "      <th>6984</th>\n",
       "      <td>Ford Freestyle Titanium Plus Diesel BSIV</td>\n",
       "      <td>2018</td>\n",
       "      <td>746000</td>\n",
       "      <td>24000</td>\n",
       "      <td>Diesel</td>\n",
       "      <td>Individual</td>\n",
       "      <td>Manual</td>\n",
       "      <td>First Owner</td>\n",
       "      <td>24.4 kmpl</td>\n",
       "      <td>1498 CC</td>\n",
       "      <td>98.63 bhp</td>\n",
       "      <td>215Nm@ 1750-3000rpm</td>\n",
       "      <td>5.0</td>\n",
       "    </tr>\n",
       "    <tr>\n",
       "      <th>6989</th>\n",
       "      <td>Maruti Swift Dzire VDI</td>\n",
       "      <td>2015</td>\n",
       "      <td>625000</td>\n",
       "      <td>50000</td>\n",
       "      <td>Diesel</td>\n",
       "      <td>Individual</td>\n",
       "      <td>Manual</td>\n",
       "      <td>First Owner</td>\n",
       "      <td>26.59 kmpl</td>\n",
       "      <td>1248 CC</td>\n",
       "      <td>74 bhp</td>\n",
       "      <td>190Nm@ 2000rpm</td>\n",
       "      <td>5.0</td>\n",
       "    </tr>\n",
       "    <tr>\n",
       "      <th>6997</th>\n",
       "      <td>Tata Indigo CR4</td>\n",
       "      <td>2013</td>\n",
       "      <td>290000</td>\n",
       "      <td>25000</td>\n",
       "      <td>Diesel</td>\n",
       "      <td>Individual</td>\n",
       "      <td>Manual</td>\n",
       "      <td>First Owner</td>\n",
       "      <td>23.57 kmpl</td>\n",
       "      <td>1396 CC</td>\n",
       "      <td>70 bhp</td>\n",
       "      <td>140Nm@ 1800-3000rpm</td>\n",
       "      <td>5.0</td>\n",
       "    </tr>\n",
       "    <tr>\n",
       "      <th>6998</th>\n",
       "      <td>Tata Indigo CR4</td>\n",
       "      <td>2013</td>\n",
       "      <td>290000</td>\n",
       "      <td>25000</td>\n",
       "      <td>Diesel</td>\n",
       "      <td>Individual</td>\n",
       "      <td>Manual</td>\n",
       "      <td>First Owner</td>\n",
       "      <td>23.57 kmpl</td>\n",
       "      <td>1396 CC</td>\n",
       "      <td>70 bhp</td>\n",
       "      <td>140Nm@ 1800-3000rpm</td>\n",
       "      <td>5.0</td>\n",
       "    </tr>\n",
       "  </tbody>\n",
       "</table>\n",
       "<p>1159 rows × 13 columns</p>\n",
       "</div>"
      ],
      "text/plain": [
       "                                          name  year  selling_price   \n",
       "254                   Hyundai Grand i10 Sportz  2017         450000  \\\n",
       "258                           Maruti Swift VXI  2012         330000   \n",
       "268                     Maruti Swift Dzire VXI  2014         400000   \n",
       "324   Jaguar XE 2016-2019 2.0L Diesel Prestige  2017        2625000   \n",
       "325                              Lexus ES 300h  2019        5150000   \n",
       "...                                        ...   ...            ...   \n",
       "6947                    Chevrolet Spark 1.0 LS  2010         140000   \n",
       "6984  Ford Freestyle Titanium Plus Diesel BSIV  2018         746000   \n",
       "6989                    Maruti Swift Dzire VDI  2015         625000   \n",
       "6997                           Tata Indigo CR4  2013         290000   \n",
       "6998                           Tata Indigo CR4  2013         290000   \n",
       "\n",
       "      km_driven    fuel seller_type transmission         owner     mileage   \n",
       "254       35000  Petrol  Individual       Manual   First Owner   18.9 kmpl  \\\n",
       "258       50000  Petrol  Individual       Manual  Second Owner   18.6 kmpl   \n",
       "268       70000  Petrol  Individual       Manual  Second Owner   19.1 kmpl   \n",
       "324        9000  Diesel      Dealer    Automatic   First Owner   13.6 kmpl   \n",
       "325       20000  Petrol      Dealer    Automatic   First Owner  22.37 kmpl   \n",
       "...         ...     ...         ...          ...           ...         ...   \n",
       "6947      60000  Petrol  Individual       Manual  Second Owner   18.0 kmpl   \n",
       "6984      24000  Diesel  Individual       Manual   First Owner   24.4 kmpl   \n",
       "6989      50000  Diesel  Individual       Manual   First Owner  26.59 kmpl   \n",
       "6997      25000  Diesel  Individual       Manual   First Owner  23.57 kmpl   \n",
       "6998      25000  Diesel  Individual       Manual   First Owner  23.57 kmpl   \n",
       "\n",
       "       engine   max_power               torque  seats  \n",
       "254   1197 CC      82 bhp       114Nm@ 4000rpm    5.0  \n",
       "258   1197 CC    85.8 bhp       114Nm@ 4000rpm    5.0  \n",
       "268   1197 CC    85.8 bhp       114Nm@ 4000rpm    5.0  \n",
       "324   1999 CC     177 bhp  430Nm@ 1750-2500rpm    5.0  \n",
       "325   2487 CC  214.56 bhp  202Nm@ 3600-5200rpm    5.0  \n",
       "...       ...         ...                  ...    ...  \n",
       "6947   995 CC      62 bhp      90.3Nm@ 4200rpm    5.0  \n",
       "6984  1498 CC   98.63 bhp  215Nm@ 1750-3000rpm    5.0  \n",
       "6989  1248 CC      74 bhp       190Nm@ 2000rpm    5.0  \n",
       "6997  1396 CC      70 bhp  140Nm@ 1800-3000rpm    5.0  \n",
       "6998  1396 CC      70 bhp  140Nm@ 1800-3000rpm    5.0  \n",
       "\n",
       "[1159 rows x 13 columns]"
      ]
     },
     "execution_count": 151,
     "metadata": {},
     "output_type": "execute_result"
    }
   ],
   "source": [
    "df_train[df_train.duplicated(subset=feat_col)]"
   ]
  },
  {
   "cell_type": "markdown",
   "metadata": {
    "id": "156jDf_Yj64l"
   },
   "source": [
    "(0.15 балла) <font color='#9933CC'>Удалите повторяющиеся строки</font>. Если при одинаковом признаковом описании цены на автомобили отличаются, то оставьте первую строку по этому автомобилю"
   ]
  },
  {
   "cell_type": "code",
   "execution_count": 152,
   "metadata": {
    "id": "sD0e3HZejmB-"
   },
   "outputs": [],
   "source": [
    "df_train.drop_duplicates(subset=feat_col,keep='first', inplace=True)"
   ]
  },
  {
   "cell_type": "code",
   "execution_count": 153,
   "metadata": {
    "id": "vF0yfzMOkEn8"
   },
   "outputs": [],
   "source": [
    "assert df_train.shape == (5840, 13)"
   ]
  },
  {
   "cell_type": "markdown",
   "metadata": {
    "id": "_SglCDNUkMTa"
   },
   "source": [
    "(0.1 балла) Чтоб все было по красоте, <font color='#9933CC'>обновите индексы строк таким образом, чтобы они шли от 0 без пропусков</font>"
   ]
  },
  {
   "cell_type": "code",
   "execution_count": 154,
   "metadata": {
    "id": "4RxpM81kkgsX"
   },
   "outputs": [],
   "source": [
    "df_train.reset_index(drop=True, inplace=True)"
   ]
  },
  {
   "cell_type": "markdown",
   "metadata": {
    "id": "CzYgx2wJzLxN"
   },
   "source": [
    "Вы могли заметить, что с признаками ``mileage, engine, max_power и torque`` всё не слава богу. Давайте починим.\n",
    "\n",
    "(0.25 балла) Задача такая: \n",
    "<font color='#9933CC'>\n",
    "* убрать единицы измерения для признаков ``mileage, engine, max_power``. \n",
    "* кастануть эти столбцы столбцы к ``float``.\n",
    "* удалить столбец ``torque``\n",
    "</font>\n",
    "\n",
    "> Все действия нужно производить над обоими датасетами\n",
    "\n",
    "---\n",
    "**Доп (0.25 балла):**\n",
    "* <font color='#9933CC'>Вместо удаления признак `torque` разделите на два: собственно `torque` и `max_torque_rpm`.</font> Учтите единицы измерения. Они разные ☹"
   ]
  },
  {
   "cell_type": "code",
   "execution_count": 155,
   "metadata": {
    "id": "njamVk3A1dVM"
   },
   "outputs": [],
   "source": [
    "def processing(dfc, train_df=None):\n",
    "    df = dfc.copy()\n",
    "    \n",
    "    mileage = list()\n",
    "    for value in df.mileage:\n",
    "        if type(value)==str:\n",
    "            if value.endswith(\"km/kg\"):\n",
    "                mileage.append(float(value.replace(\"km/kg\",\"\")))\n",
    "            if value.endswith(\"kmpl\"):\n",
    "                mileage.append(float(value.replace(\"kmpl\", \"\"))*1.4)\n",
    "        else:\n",
    "            mileage.append(value)\n",
    "    df.mileage = mileage\n",
    "    if train_df is not None:\n",
    "        mileage_mean = train_df[train_df.mileage.notna()].mileage.astype(float).median()\n",
    "    else:\n",
    "        mileage_mean = df[df.mileage.notna()].mileage.astype(float).median()\n",
    "    df.mileage.fillna(mileage_mean, inplace=True)\n",
    "    df.mileage = df.mileage.astype(float)\n",
    "    \n",
    "    df.engine = df.engine.apply(lambda x: x.replace(\"CC\", \"\") if type(x)==str else x) \n",
    "    if train_df is not None:\n",
    "        engine_mean = train_df[train_df.engine.notna()].engine.astype(float).median()\n",
    "    else:\n",
    "        engine_mean = df[df.engine.notna()].engine.astype(float).median()\n",
    "    df.engine.fillna(engine_mean, inplace=True)\n",
    "    df.engine = df.engine.astype(int)\n",
    "    \n",
    "    df.max_power = df.max_power.apply(lambda x: x.replace(\"bhp\", \"\") if type(x)==str else x)\n",
    "    df.max_power = df.max_power.replace(r'^\\s+$', np.nan, regex=True)\n",
    "    if train_df is not None:\n",
    "        max_power_mean = train_df[train_df.max_power.notna()].max_power.astype(float).median()\n",
    "    else:\n",
    "        max_power_mean = df[df.max_power.notna()].max_power.astype(float).median()\n",
    "    df.max_power.fillna(max_power_mean, inplace=True)\n",
    "    df.max_power = df.max_power.astype(float)\n",
    "    \n",
    "    torq = list()\n",
    "    rpm = list()\n",
    "    for val in df.torque:\n",
    "        if type(val)==str:\n",
    "            val = val.lower()\n",
    "            val = val.replace(\",\",\".\")\n",
    "            if val.endswith(\"(kgm@ rpm)\"):\n",
    "                val = val.replace(\" \", \"\")\n",
    "                torque = val[:-9].split(\"@\")\n",
    "                torq.append(float(torque[0]))\n",
    "                rpm.append(torque[1])\n",
    "            else:\n",
    "                val = val.replace(\" \", \"\")\n",
    "                torque = re.split(\"@|at|/\", val)\n",
    "                record = [np.NAN,np.NAN]\n",
    "                for item in torque:\n",
    "                    if item.endswith(\"nm\"):\n",
    "                        record[0] = float(re.findall(\"\\d{1,}\", item)[0])\n",
    "                    if item.endswith(\"kgm\"):\n",
    "                        record[0] = float(item.replace(\"kgm\", \"\"))*9.8067\n",
    "                    if item.endswith(\"rpm\"):\n",
    "                        record[1] = item.replace(\"rpm\",\"\")\n",
    "                torq.append(record[0])        \n",
    "                rpm.append(record[1])\n",
    "        else:\n",
    "            torq.append(val)\n",
    "            rpm.append(np.NAN)\n",
    "    df.torque = torq\n",
    "    if train_df is not None:\n",
    "        torque_mean = train_df[train_df.torque.notna()].torque.median()\n",
    "    else:\n",
    "        torque_mean = df[df.torque.notna()].torque.median()\n",
    "    df.torque.fillna(torque_mean, inplace=True)\n",
    "    df.torque = df.torque.astype(float)\n",
    "    for i, val in enumerate(rpm):\n",
    "        val = str(val)\n",
    "        val = val.replace(\".\",\"\")\n",
    "        values = re.findall(\"\\d{1,}\", val)\n",
    "        if len(values)==2:\n",
    "            rpm[i]=int(values[0])+int(values[1])/2\n",
    "        else: \n",
    "            numbers = re.findall(\"\\d{1,}\", val)\n",
    "            if numbers:\n",
    "                rpm[i] = numbers[0]\n",
    "            else:\n",
    "                rpm[i] = np.NAN\n",
    "    df['max_torque_rpm'] = rpm\n",
    "    if train_df is not None:\n",
    "        rpm_mean = train_df[train_df.max_torque_rpm.notna()].max_torque_rpm.astype(int).median()\n",
    "    else:\n",
    "        rpm_mean = df[df.max_torque_rpm.notna()].max_torque_rpm.astype(int).median()\n",
    "    df.max_torque_rpm.fillna(rpm_mean, inplace=True)\n",
    "    df.max_torque_rpm = df.max_torque_rpm.astype(float)\n",
    "    \n",
    "    if train_df is not None:\n",
    "        seat_mean = train_df[train_df.seats.notna()].seats.astype(int).median()\n",
    "    else:\n",
    "        seat_mean = df[df.seats.notna()].seats.astype(int).median()\n",
    "    df.seats.fillna(seat_mean, inplace=True)\n",
    "    df.seats = df.seats.astype(int)\n",
    "    \n",
    "    return df"
   ]
  },
  {
   "cell_type": "code",
   "execution_count": 156,
   "metadata": {},
   "outputs": [],
   "source": [
    "df_train = processing(df_train)\n",
    "df_test = processing(df_test, train_df=df_train)"
   ]
  },
  {
   "cell_type": "markdown",
   "metadata": {
    "id": "nyEtp7jsRNms"
   },
   "source": [
    "(0.15 балла) <font color='#9933CC'>Заполните пропуски в столбцах медианами. Убедитесь, что после заполнения пропусков не осталось</font>\n",
    "\n",
    "> Обратите внимание, что, по уму, нужно посчитать медиану по трейну и этим средним заполнять пропуски в тесте. Так же делаем, если, например, стандартизируем признаки.\n",
    "\n"
   ]
  },
  {
   "cell_type": "code",
   "execution_count": 157,
   "metadata": {},
   "outputs": [
    {
     "data": {
      "text/plain": [
       "name              0\n",
       "year              0\n",
       "selling_price     0\n",
       "km_driven         0\n",
       "fuel              0\n",
       "seller_type       0\n",
       "transmission      0\n",
       "owner             0\n",
       "mileage           0\n",
       "engine            0\n",
       "max_power         0\n",
       "torque            0\n",
       "seats             0\n",
       "max_torque_rpm    0\n",
       "dtype: int64"
      ]
     },
     "execution_count": 157,
     "metadata": {},
     "output_type": "execute_result"
    }
   ],
   "source": [
    "df_train.isna().sum()"
   ]
  },
  {
   "cell_type": "code",
   "execution_count": 159,
   "metadata": {
    "id": "M9H15wvXRYQF"
   },
   "outputs": [
    {
     "data": {
      "text/plain": [
       "name              0\n",
       "year              0\n",
       "selling_price     0\n",
       "km_driven         0\n",
       "fuel              0\n",
       "seller_type       0\n",
       "transmission      0\n",
       "owner             0\n",
       "mileage           0\n",
       "engine            0\n",
       "max_power         0\n",
       "torque            0\n",
       "seats             0\n",
       "max_torque_rpm    0\n",
       "dtype: int64"
      ]
     },
     "execution_count": 159,
     "metadata": {},
     "output_type": "execute_result"
    }
   ],
   "source": [
    "df_test.isna().sum()"
   ]
  },
  {
   "cell_type": "code",
   "execution_count": 161,
   "metadata": {},
   "outputs": [
    {
     "data": {
      "text/plain": [
       "name               object\n",
       "year                int64\n",
       "selling_price       int64\n",
       "km_driven           int64\n",
       "fuel               object\n",
       "seller_type        object\n",
       "transmission       object\n",
       "owner              object\n",
       "mileage           float64\n",
       "engine              int64\n",
       "max_power         float64\n",
       "torque            float64\n",
       "seats               int64\n",
       "max_torque_rpm    float64\n",
       "dtype: object"
      ]
     },
     "execution_count": 161,
     "metadata": {},
     "output_type": "execute_result"
    }
   ],
   "source": [
    "df_train.dtypes"
   ]
  },
  {
   "cell_type": "code",
   "execution_count": 162,
   "metadata": {},
   "outputs": [
    {
     "data": {
      "text/plain": [
       "name               object\n",
       "year                int64\n",
       "selling_price       int64\n",
       "km_driven           int64\n",
       "fuel               object\n",
       "seller_type        object\n",
       "transmission       object\n",
       "owner              object\n",
       "mileage           float64\n",
       "engine              int64\n",
       "max_power         float64\n",
       "torque            float64\n",
       "seats               int64\n",
       "max_torque_rpm    float64\n",
       "dtype: object"
      ]
     },
     "execution_count": 162,
     "metadata": {},
     "output_type": "execute_result"
    }
   ],
   "source": [
    "df_test.dtypes"
   ]
  },
  {
   "cell_type": "markdown",
   "metadata": {
    "id": "RuKxfXCaXeHr"
   },
   "source": [
    "\n",
    "(0.1 балла) Теперь, когда не осталось пропусков, можно <font color='#9933CC'>преобразовать столбцы к более подходящим типам (``engnine`` и ``seats`` к int)\n",
    "</font>\n",
    "\n",
    "Ниже ответьте, <font color='#FF6600'>почему (хоть мы этого и не делаем) ``seats``, возможно, лучше сделать переменной категориальной, а не целочисленной.</font>"
   ]
  },
  {
   "cell_type": "code",
   "execution_count": 164,
   "metadata": {
    "colab": {
     "base_uri": "https://localhost:8080/"
    },
    "id": "gVi9BPC-YLMi",
    "outputId": "aa889364-c725-4fd2-8551-4b5d2086ad4b"
   },
   "outputs": [
    {
     "name": "stdout",
     "output_type": "stream",
     "text": [
      "Количество мест в авто скрее категория 2-х это либо небольшая либо спортивная машина, 7-ми местная скорее всего минивен или большой семейный внедорожник и т.д.\n"
     ]
    }
   ],
   "source": [
    "print(\"Количество мест в авто скрее категория 2-х это либо небольшая либо спортивная машина, 7-ми местная скорее всего минивен или большой семейный внедорожник и т.д.\")"
   ]
  },
  {
   "cell_type": "code",
   "execution_count": null,
   "metadata": {
    "id": "kYKWyjsLYQuz"
   },
   "outputs": [],
   "source": [
    "# your code here"
   ]
  },
  {
   "cell_type": "markdown",
   "metadata": {
    "id": "OmV784QWZOpO"
   },
   "source": [
    "## Визуализации (1 балл + 0.5)"
   ]
  },
  {
   "cell_type": "markdown",
   "metadata": {
    "id": "6p2L60ngZueT"
   },
   "source": [
    "Визуализировать нам надо не так уж и много. Во-первых, хотелось бы, в принципе, увидеть как распределены значения признаков. Также хотелось бы понять, насколько признаки скоррелированы между собой и с целевой переменной. А ещё неплохо бы посмотреть, не оказалось ли так, что тестовые данные распределены иначе, чем трейн.\n",
    "\n",
    "Этим всем и предлагаем вам заняться."
   ]
  },
  {
   "cell_type": "markdown",
   "metadata": {
    "id": "IJpEKkFfaQoC"
   },
   "source": [
    "(0.25 балла) <font color='#9933CC'>Посторойте попарные распределения всех числовых признаков для трейна.</font>\n",
    "\n",
    "> ``sns.paiplot()`` позволяет сделать это в одну строчку"
   ]
  },
  {
   "cell_type": "code",
   "execution_count": null,
   "metadata": {
    "id": "0car89hFaby1"
   },
   "outputs": [],
   "source": [
    "# your code here"
   ]
  },
  {
   "cell_type": "markdown",
   "metadata": {
    "id": "Vf4NE1-WboFG"
   },
   "source": [
    "Этот график не такой информативный, как можно было бы построить, беря признаки по отдельности. Но он позволяет сделать некоторые (возможно, далеко идущие) выводы. Впрочем, со многими из них (если не со всеми) вы бы справились умозрительно. Однако всегда приятно делать выводы, основываясь на данных.\n",
    "\n",
    "\n",
    "\n",
    "* <font color='#FF6600'> Что можно сказать о связи предикторов с целевой переменной?\n",
    "* А о корреляциях признаков? </font>"
   ]
  },
  {
   "cell_type": "markdown",
   "metadata": {
    "id": "m0Y8VOCceH_3"
   },
   "source": [
    "(0.25 балла) <font color='#9933CC'>Постройте pairplot по тестовым данным</font> и ответьте на вопрос <font color='#FF6600'>\"Похожими ли оказались совокупности при разделении на трейн и тест?\"</font>"
   ]
  },
  {
   "cell_type": "code",
   "execution_count": null,
   "metadata": {
    "id": "NK9l6SrAeHK1"
   },
   "outputs": [],
   "source": [
    "# your code here"
   ]
  },
  {
   "cell_type": "markdown",
   "metadata": {
    "id": "Gnn7pDcrfEvN"
   },
   "source": [
    "(0.25 балла) <font color='#9933CC'>Для трейна давайте построим тепловую карту (heatmap из библиотеки seaborn) попарных корреляций числовых колонок</font>"
   ]
  },
  {
   "cell_type": "code",
   "execution_count": null,
   "metadata": {
    "id": "E99LVAN2fMVH"
   },
   "outputs": [],
   "source": [
    "# your code here"
   ]
  },
  {
   "cell_type": "markdown",
   "metadata": {
    "id": "w24a_oXqf12H"
   },
   "source": [
    "Ответьте, пожалуйста, на вопросы: \n",
    "* <font color='#FF6600'>Какие 2 признака наименее скоррелированы между собой?</font>\n",
    "* <font color='#FF6600'>Между какими наблюдается довольно сильная положительная линейная зависимость?</font>\n",
    "* <font color='#FF6600'>Правильно ли, опираясь на данные, утверждать, что чем меньше год, тем, скорее всего, больше километров проехала машина к дате продажи.</font>"
   ]
  },
  {
   "cell_type": "markdown",
   "metadata": {
    "id": "DZXV-FI9lO5V"
   },
   "source": [
    "(0.25 балла) <font color='#9933CC'> Отобразите диаграммe рассеяния для наиболее скореллированной пары **признаков** (на трейне) </font>"
   ]
  },
  {
   "cell_type": "code",
   "execution_count": null,
   "metadata": {
    "id": "6RtM_zkDlON9"
   },
   "outputs": [],
   "source": [
    "# your code here"
   ]
  },
  {
   "cell_type": "markdown",
   "metadata": {
    "id": "ru1In410pieq"
   },
   "source": [
    "### Дополнительные визуализации (бонус 0.5 балла)\n",
    "\n",
    "Если вам кажется, что мы не попросили вас нарисовать какие-то очень важные зависимости, нарисуйте их и поясните."
   ]
  },
  {
   "cell_type": "code",
   "execution_count": null,
   "metadata": {
    "id": "HwlwJhDIp_2L"
   },
   "outputs": [],
   "source": [
    "# your code here"
   ]
  },
  {
   "cell_type": "markdown",
   "metadata": {
    "id": "uS2CQ1LzrP_U"
   },
   "source": [
    "# Часть 2 (1.25 балла) | Модель только на вещественных признаках"
   ]
  },
  {
   "cell_type": "markdown",
   "metadata": {
    "id": "EPDwkjMPg3Lg"
   },
   "source": [
    "(0.05 балла) <font color='#9933CC'>В переменные ``y_train`` и ``y_test`` запишите значения целевых переменных. Столбцы ``selling_price`` из датафреймов необходимо удалить. Категориальные (все, кроме ``seats``) столбцы тоже.</font>"
   ]
  },
  {
   "cell_type": "code",
   "execution_count": null,
   "metadata": {
    "id": "cGxjJSSUg2na"
   },
   "outputs": [],
   "source": [
    "y_train = # your code here\n",
    "X_train = # your code here"
   ]
  },
  {
   "cell_type": "code",
   "execution_count": null,
   "metadata": {
    "id": "fyMyARKem5wl"
   },
   "outputs": [],
   "source": [
    "assert X_train.shape == (5840, 6)"
   ]
  },
  {
   "cell_type": "code",
   "execution_count": null,
   "metadata": {
    "id": "xKRmqiJ5rbSx"
   },
   "outputs": [],
   "source": [
    "y_test = # your code here\n",
    "X_test = # your code here"
   ]
  },
  {
   "cell_type": "code",
   "execution_count": null,
   "metadata": {
    "id": "-JepTZ36y-h-"
   },
   "outputs": [],
   "source": [
    "assert X_test.shape == (1000, 6)"
   ]
  },
  {
   "cell_type": "markdown",
   "metadata": {
    "id": "_kvtF4gXhwoI"
   },
   "source": [
    "(0.2 балла) <font color='#9933CC'>Обучите классическую линейную регрессию с дефолтными параметрами. Посчтитайте $R^2$ и MSE для трейна и для теста</font>\n",
    "\n",
    "**Замечание:** $R^2$ и MSE для трейна и для теста выводите везде, где требуется обучать модели, даже если в явном виде этого не просят. Иначе непонятно, как понять, насколько успешны наши эксперименты."
   ]
  },
  {
   "cell_type": "code",
   "execution_count": null,
   "metadata": {
    "id": "hVYXaeTgrb3d"
   },
   "outputs": [],
   "source": [
    "from sklearn.linear_model import LinearRegression\n",
    "from sklearn.metrics import r2_score, mean_squared_error as MSE\n",
    "\n",
    "# your code here"
   ]
  },
  {
   "cell_type": "markdown",
   "metadata": {
    "id": "HpQ8EG2Uk_Dn"
   },
   "source": [
    "Запомните правило:\n",
    "\n",
    "> Использую линейную модель -- стандартизирую фичи\n",
    "\n",
    "(0.25 балла) <font color='#9933CC'>Воспользуемся им</font>\n"
   ]
  },
  {
   "cell_type": "code",
   "execution_count": null,
   "metadata": {
    "id": "o6FB80C2rciK"
   },
   "outputs": [],
   "source": [
    "from sklearn.preprocessing import StandardScaler\n",
    "\n",
    "# your code here"
   ]
  },
  {
   "cell_type": "markdown",
   "metadata": {
    "id": "oQZi8LYVmiPv"
   },
   "source": [
    "Не очень результативно.\n",
    "\n",
    "Зато уже сейчас можем интерпретировать модель. <font color='#FF6600'>\"Какой признак оказался наиболее информативным в предсказании цены?\"</font>"
   ]
  },
  {
   "cell_type": "code",
   "execution_count": null,
   "metadata": {
    "id": "u9onBNrhmt1r"
   },
   "outputs": [],
   "source": [
    "# your code here"
   ]
  },
  {
   "cell_type": "markdown",
   "metadata": {
    "id": "My5nSSASntjA"
   },
   "source": [
    "(0.25 балла) <font color='#9933CC'>Теперь попробуем Lasso-регрессию.</font> Здесь и дальше обучайте модели на нормализованных признаках"
   ]
  },
  {
   "cell_type": "code",
   "execution_count": null,
   "metadata": {
    "id": "yhR5eajPn0kl"
   },
   "outputs": [],
   "source": [
    "from sklearn.linear_model import Lasso\n",
    "\n",
    "# your code here"
   ]
  },
  {
   "cell_type": "markdown",
   "metadata": {
    "id": "cIbnMp-So7CP"
   },
   "source": [
    "<font color='#FF6600'>Занулила ли L1-регуляризация с параметрами по умолчанию какие-нибудь веса? Почему же?</font>"
   ]
  },
  {
   "cell_type": "code",
   "execution_count": null,
   "metadata": {
    "id": "EBJKIp6FouYw"
   },
   "outputs": [],
   "source": [
    "# your code here"
   ]
  },
  {
   "cell_type": "markdown",
   "metadata": {
    "id": "YYWLInilqQTE"
   },
   "source": [
    "(0.25 балла) <font color='#9933CC'>Перебором по сетке (c 10-ю фолдами) подберите оптимальные параметры для Lasso-регрессии</font>\n",
    "\n",
    "Вам пригодится класс [GridSearchCV](https://scikit-learn.org/stable/modules/generated/sklearn.model_selection.GridSearchCV.html)."
   ]
  },
  {
   "cell_type": "code",
   "execution_count": null,
   "metadata": {
    "id": "mdGQ6CvApr_P"
   },
   "outputs": [],
   "source": [
    "from sklearn.model_selection import GridSearchCV\n",
    "\n",
    "# your code here"
   ]
  },
  {
   "cell_type": "markdown",
   "metadata": {
    "id": "rueUl2cSvT5w"
   },
   "source": [
    "<font color='#FF6600'>Сколько грид-сёрчу пришлось обучать моделей?</font>"
   ]
  },
  {
   "cell_type": "markdown",
   "metadata": {
    "id": "0agvlV-tvEQN"
   },
   "source": [
    "<font color='#FF6600'>Какой коэффициент регуляризации у лучшей из перебранных моделей? Занулились ли какие-нибудь из весов при такой регуляризации?</font>"
   ]
  },
  {
   "cell_type": "code",
   "execution_count": null,
   "metadata": {
    "id": "joyYE2Q5shu5"
   },
   "outputs": [],
   "source": [
    "# your code here"
   ]
  },
  {
   "cell_type": "markdown",
   "metadata": {
    "id": "VdkkrDE4oeCP"
   },
   "source": [
    "(0.25 балла) <font color='#9933CC'>Перебором по сетке (c 10-ю фолдами) подберите оптимальные параметры для [ElasticNet](https://scikit-learn.org/stable/modules/generated/sklearn.linear_model.ElasticNet.html)-регрессии</font>"
   ]
  },
  {
   "cell_type": "code",
   "execution_count": null,
   "metadata": {
    "id": "F3e5MGZMoeCR"
   },
   "outputs": [],
   "source": [
    "from sklearn.linear_model import ElasticNet\n",
    "\n",
    "# your code here"
   ]
  },
  {
   "cell_type": "markdown",
   "metadata": {
    "id": "zB0Nrbk6oeCS"
   },
   "source": [
    "<font color='#FF6600'>Какие гиперпараметры соответствуют лучшей из перебранных моделей?</font>"
   ]
  },
  {
   "cell_type": "code",
   "execution_count": null,
   "metadata": {
    "id": "gIzvY8bToeCS"
   },
   "outputs": [],
   "source": [
    "# your code here"
   ]
  },
  {
   "cell_type": "markdown",
   "metadata": {
    "id": "5C3IX1-CwHO2"
   },
   "source": [
    "Предлагаем вам оставить вам попытки заметно улучшить качество модели регуляризацией и перейти к следующей части задания."
   ]
  },
  {
   "cell_type": "markdown",
   "metadata": {
    "id": "Y2y-_PCHrevF"
   },
   "source": [
    "# Часть 3 (0.5 балла) | Добавляем категориальные фичи\n",
    "\n"
   ]
  },
  {
   "cell_type": "markdown",
   "metadata": {
    "id": "frLASc5L8Tu5"
   },
   "source": [
    "(0 баллов) <font color='#9933CC'>Из ``df_train`` удалите столбцы с целевой переменной и названием автомобиля.</font>"
   ]
  },
  {
   "cell_type": "code",
   "execution_count": null,
   "metadata": {
    "id": "jsXiFjaFrng-"
   },
   "outputs": [],
   "source": [
    "# your code here"
   ]
  },
  {
   "cell_type": "code",
   "execution_count": null,
   "metadata": {
    "id": "SqDhrd6Q8k-S"
   },
   "outputs": [],
   "source": [
    "assert X_train_cat.shape == (5840, 10)"
   ]
  },
  {
   "cell_type": "code",
   "execution_count": null,
   "metadata": {
    "id": "JyGl7KQQx_Ax"
   },
   "outputs": [],
   "source": [
    "X_train_cat.describe(include='object')"
   ]
  },
  {
   "cell_type": "markdown",
   "metadata": {
    "id": "wYxtiDa_81AL"
   },
   "source": [
    "(0.5 балла) <font color='#9933CC'>Закодируйте категориалльные фичи и ``seats`` методом OneHot-кодирования</font>\n",
    "\n",
    "> Обратите внимание, что во избежание мультиколлинеарности следует избавиться от одного из полученных столбцов при кодировании каждого признака методом OneHot. "
   ]
  },
  {
   "cell_type": "code",
   "execution_count": null,
   "metadata": {
    "id": "wbN4yM2Frob7"
   },
   "outputs": [],
   "source": [
    "from sklearn.preprocessing import OneHotEncoder # или можно использовать get_dummies из библиотеки pandas\n",
    "\n",
    "# your code here"
   ]
  },
  {
   "cell_type": "markdown",
   "metadata": {
    "id": "b8fI5dQT-Fvx"
   },
   "source": [
    "(0.25 балла) <font color='#9933CC'>Переберите параметр регуляризации `alpha` для гребневой (ridge) регрессии с помощью класса `GridSearchCV`.</font> В качестве параметров при объявлении GridSearchCV кроме модели укажите метрику качества $R^2$. Кроссвалидируйтесь по 10-ти фолдам.\n",
    "\n",
    "<font color='#FF6600'>Удалось ли улучшить качество предсказаний?</font>"
   ]
  },
  {
   "cell_type": "code",
   "execution_count": null,
   "metadata": {
    "id": "SLXCtme53Oup"
   },
   "outputs": [],
   "source": [
    "from sklearn.linear_model import Ridge\n",
    "from sklearn.model_selection import GridSearchCV\n",
    "\n",
    "# your code here"
   ]
  },
  {
   "cell_type": "markdown",
   "metadata": {
    "id": "T0OlrsmArp2I"
   },
   "source": [
    "# Часть 4 - бонусная (1.5 балла) | Feature Engineering "
   ]
  },
  {
   "cell_type": "markdown",
   "metadata": {
    "id": "NXo9jvHPEYtN"
   },
   "source": [
    "В этой части домашнего задания вам предлагается проявить свою креативность для улучшения прогноза модели. Любые другие модели, кроме различных форм линейной (или полиномиальной) регресси, использовать запрещается. А значит, придется работать с признаками\n",
    "\n",
    "**Что можно попробовать сделать?** (каждый пункт по 0.4 балла, но не больше 2-х баллов в сумме)\n",
    "\n",
    "1.   *Сгенерировать новые признаки на основе уже существующих:*\n",
    "    * посчитать произведения // частные признаков (кажется, что посчитать число \"лошадей\" на литр объема может быть полезно);\n",
    "    * имеет смысл обратить внимание на визуализации в части с EDA (к примеру, зависимость цены от года выглядит квадратичной, а не линейной; значит, квадрат года нам, скорее всего, принесет больше пользы)\n",
    "\n",
    "2.   *Добыть новые признаки:*\n",
    "    * имеем название автомобиля, которое никак не используем (можно спарсить инфу о классе автомобиля или каких-то специфических опциях)\n",
    "    * можно добавить пороговые признаки вроде \"владелец третий или больше\" и объединить признаки в некоторые осмысленные правила, например \"первый или второй владелец и продавец официальный дилер\" (подбирать пороги удобно по диаграммам рассеяния)\n",
    "\n",
    "3.   *Поработать с уже имеющимися:*\n",
    "    * далеко не факт, что заполнить пропуск медианой было лучшей идеей (как минимум, можно добавить dummy-столбец для модели, сигнализирующий, что раньше на месте медианы был пропуск -- там где он был, конечно); попробуйте другие способы филлинга;\n",
    "    * мы не анализировали, есть ли в данных выбросы => никак выбросы не обрабатывали; наиболее простым и, тем не менее, довольно полезным вариантом нахождения выбросов могут послужить boxplot'ы для каждого столбца; что делать с выбросами думайте сами :) -- вариантов довольно много\n",
    "    * мы толком не смотрели на таргет сам по себе; в нем тоже могут быть неожиданности -- стоит хотя бы проверить\n",
    "    * можно заметить, что некоторые признаки распределены совсем не нормально; возможно их стоит отлогарифмировать\n",
    "\n",
    "И так далее...\n",
    "\n",
    "Feel Free to Try!"
   ]
  },
  {
   "cell_type": "code",
   "execution_count": null,
   "metadata": {
    "id": "keijjrKbr3Ne"
   },
   "outputs": [],
   "source": [
    "# your code here"
   ]
  },
  {
   "cell_type": "markdown",
   "metadata": {
    "id": "mw6LOYJTL2x1"
   },
   "source": [
    "# Часть Бизнесовая (0.5 балла)"
   ]
  },
  {
   "cell_type": "markdown",
   "metadata": {
    "id": "0QpHAfbcMRfu"
   },
   "source": [
    "Заказчик просил вас посчитать кастомную метрику -- среди всех предсказанных цен на авто посчитать долю предиктов, отличающихся от реальных цен на эти авто не более чем на 10% (в одну или другую сторону)\n",
    "\n",
    "<font color='#9933CC'>Сделайте это самостоятельно для лучшей из своих моделей</font>"
   ]
  },
  {
   "cell_type": "code",
   "execution_count": null,
   "metadata": {
    "id": "YrcaGhO7MnMR"
   },
   "outputs": [],
   "source": [
    "def business_metrics(y_true, y_pred):\n",
    "    # your code here\n",
    "\n",
    "business_metrics(# your code here)"
   ]
  },
  {
   "cell_type": "markdown",
   "metadata": {
    "id": "ARi0hYPrsI4x"
   },
   "source": [
    "# Часть 5 (2.5 балла) | Реализация сервиса на FastAPI"
   ]
  },
  {
   "cell_type": "markdown",
   "metadata": {
    "id": "03rHiCmGKGU8"
   },
   "source": [
    "Cделайте с помощью FastAPI сервис, который с точки зрения пользователя реализует две функции:\n",
    "\n",
    "1. на вход в формате json подаются признаки одного объекта, на выходе сервис выдает предсказанную стоимость машины\n",
    "2. на вход подается csv-файл с признаками тестовых объектов, на выходе получаем файл с +1 столбцом - предсказаниями на этих объектах\n",
    "\n",
    "С точки зрения реализации это означает следующее:\n",
    "- средствами pydantic должен быть описан класс базового объекта\n",
    "- класс с коллецией объектов\n",
    "- метод post, который получает на вход один объект описанного класса\n",
    "- метод post, который получает на вход коллекцию объектов описанного класса\n",
    "\n",
    "Шаблон для сервисной части дан ниже. Код необходимо дополнить и оформить в виде отдельного .py-файла."
   ]
  },
  {
   "cell_type": "code",
   "execution_count": null,
   "metadata": {
    "id": "6Qq8zyxNsYC3"
   },
   "outputs": [],
   "source": [
    "from fastapi import FastAPI\n",
    "from pydantic import BaseModel\n",
    "from typing import List\n",
    "\n",
    "app = FastAPI()\n",
    "\n",
    "\n",
    "class Item(BaseModel):\n",
    "    name: str\n",
    "    year: int\n",
    "    selling_price: int\n",
    "    km_driven: int\n",
    "    fuel: str\n",
    "    seller_type: str\n",
    "    transmission: str\n",
    "    owner: str\n",
    "    mileage: str \n",
    "    engine: str\n",
    "    max_power: str\n",
    "    torque: str\n",
    "    seats: float\n",
    "\n",
    "\n",
    "class Items(BaseModel):\n",
    "    objects: List[Item]\n",
    "\n",
    "\n",
    "@app.post(\"/predict_item\")\n",
    "def predict_item(item: Item) -> float:\n",
    "    return ...\n",
    "\n",
    "\n",
    "@app.post(\"/predict_items\")\n",
    "def predict_items(items: List[Item]) -> List[float]:\n",
    "    return ..."
   ]
  },
  {
   "cell_type": "markdown",
   "metadata": {
    "id": "3U29qIjog18v"
   },
   "source": [
    "Протестируйте сервис на корректность работы и приложите скриншоты (см. ниже)."
   ]
  },
  {
   "cell_type": "markdown",
   "metadata": {
    "id": "V4fq_10xsaHg"
   },
   "source": [
    "# Часть 6 (1 балл) | Оформление результатов"
   ]
  },
  {
   "cell_type": "markdown",
   "metadata": {
    "id": "nmwf-ZrEKZy6"
   },
   "source": [
    "**Результаты вашей работы** необходимо разместить в своем Гитхабе. Под результатами понимаем следующее:\n",
    "* ``.ipynb``-ноутбук со всеми проведёнными вами экспериментами (output'ы ячеек, разумеется, сохранить)\n",
    "* ``.py``-файл с реализацией сервиса\n",
    "* ``.pickle``-файл с сохранёнными весами модели, коэффициентами скейлинга и прочими числовыми значениями, которые могут понадобиться для инференса\n",
    "* ``.md``-файл с выводами про проделанной вами работе:\n",
    "    * что было сделано\n",
    "    * с какими результатами\n",
    "    * что дало наибольший буст в качестве\n",
    "    * что сделать не вышло и почему (это нормально, даже хорошо😀)\n",
    "\n",
    "**За что могут быть сняты баллы в этом пункте:**\n",
    "* за отсутствие ``.pickle``-файла с весами использованной модели\n",
    "* за недостаточную аналитику в ``.md``-файле\n",
    "* за оформление и логику кода (в определённом смысле это тоже элемент оформления решения)\n",
    "\n",
    "**Как будет выглядет проверка всего домашнего задания?**\n",
    "1. Ассистент проходит по ссылке на (**открытый**) репозиторий из Энитаска\n",
    "2. Смотрит ``readme.md``:\n",
    "    * пожалуйста, приложите в него же скрины работы вашего сервиса -- собирать ваши проекты довольно времязатратно, но хочется убедиться, что всё работает\n",
    "    * можете прислать screencast в ТГ\n",
    "3. Просматривает ноутбук с pure-DS частью\n",
    "4. Заглядывает в код сервиса\n",
    "5. Хвалит"
   ]
  },
  {
   "cell_type": "markdown",
   "metadata": {
    "id": "QSIEzw6sN8Zp"
   },
   "source": [
    "# Часть Благодарственная"
   ]
  },
  {
   "cell_type": "markdown",
   "metadata": {
    "id": "lWOSqmLWOAr-"
   },
   "source": [
    "Надеемся, вы честно проделали все пункты, а не просто пролистали досюда. Потому что здесь награда за старания. Пожалуйста, не стоит награждать себя до того, как закончите работать над домашкой.\n",
    "\n",
    "https://drive.google.com/file/d/1LT06nyg9QgVi3r-D5BY-_mQ9TcJQFxJN/view?usp=share_link"
   ]
  },
  {
   "cell_type": "code",
   "execution_count": null,
   "metadata": {
    "id": "PJnbprP8QGLx"
   },
   "outputs": [],
   "source": []
  }
 ],
 "metadata": {
  "colab": {
   "provenance": []
  },
  "kernelspec": {
   "display_name": "Python 3 (ipykernel)",
   "language": "python",
   "name": "python3"
  },
  "language_info": {
   "codemirror_mode": {
    "name": "ipython",
    "version": 3
   },
   "file_extension": ".py",
   "mimetype": "text/x-python",
   "name": "python",
   "nbconvert_exporter": "python",
   "pygments_lexer": "ipython3",
   "version": "3.9.10"
  }
 },
 "nbformat": 4,
 "nbformat_minor": 1
}
